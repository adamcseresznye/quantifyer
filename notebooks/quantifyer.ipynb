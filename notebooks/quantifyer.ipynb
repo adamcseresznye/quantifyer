{
 "cells": [
  {
   "cell_type": "code",
   "execution_count": null,
   "id": "bec5cdfc-0fe4-452f-adf7-7df5191141d1",
   "metadata": {},
   "outputs": [],
   "source": [
    "from dataclasses import dataclass\n",
    "from pathlib import Path\n",
    "from typing import Optional\n",
    "\n",
    "import matplotlib.pylab as plt\n",
    "import pandas as pd\n",
    "\n",
    "import get_data\n",
    "import utils"
   ]
  },
  {
   "cell_type": "code",
   "execution_count": null,
   "id": "24d703f6-8b51-4ce0-a606-55a828cfec99",
   "metadata": {},
   "outputs": [],
   "source": [
    "parent_folder = utils.Configuration.RAW_DATA_PATH\n",
    "\n",
    "data = get_data.Data(\n",
    "    quant_file=parent_folder.joinpath(\"results.csv\"),\n",
    "    is_correspondence_file=parent_folder.joinpath(\"is_std_table_correspondence.csv\"),\n",
    "    sample_properties_file=parent_folder.joinpath(\"sample_properties.csv\"),\n",
    "    qc_file=parent_folder.joinpath(\"qc.csv\"),\n",
    "    is_concentration_file=parent_folder.joinpath(\"is_std_table_concentration.csv\"),\n",
    ")"
   ]
  },
  {
   "cell_type": "code",
   "execution_count": null,
   "id": "a1d1d178-813a-4f94-b07a-50c04056fc9e",
   "metadata": {},
   "outputs": [],
   "source": [
    "data.is_correspondence_file"
   ]
  },
  {
   "cell_type": "code",
   "execution_count": null,
   "id": "2f53efa9-4013-417c-9bfd-ea07bbd96f1f",
   "metadata": {},
   "outputs": [],
   "source": [
    "class Recovery:\n",
    "    def __init__(\n",
    "        self,\n",
    "        peak_areas,\n",
    "        is_concentration_file,\n",
    "        sample_properties_file,\n",
    "        is_correspondence_file,\n",
    "    ):\n",
    "        self.peak_areas = peak_areas.query(\"type == 'area'\").set_index(\"name\")\n",
    "        self.is_concentration_file = is_concentration_file.set_index(\"name\")\n",
    "        self.sample_properties_file = sample_properties_file\n",
    "        self.is_correspondence_file = is_correspondence_file\n",
    "\n",
    "    @property\n",
    "    def isrs_sample_names(self):\n",
    "        return self.sample_properties_file.loc[\n",
    "            lambda df: df.sample_type == \"isrs\", \"sample_name\"\n",
    "        ].values\n",
    "\n",
    "    @property\n",
    "    def is_identity(self):\n",
    "        return self.is_correspondence_file.internal_standard.unique()\n",
    "\n",
    "    @property\n",
    "    def rs_identity(self):\n",
    "        return self.is_correspondence_file.external_standard.unique()\n",
    "\n",
    "    # TODO correct filter_dataframe to make calculate_RRF easier to read\n",
    "    # def filter_dataframe(self, df, identities):\n",
    "    #     return df.loc[\n",
    "    #         df.index.isin(identities),\n",
    "    #         df.columns.isin(self.isrs_sample_names),\n",
    "    #     ].squeeze()\n",
    "\n",
    "    def calculate_RRF(self):\n",
    "        rs_area = self.peak_areas.loc[\n",
    "            self.peak_areas.index.isin(self.rs_identity),\n",
    "            self.peak_areas.columns.isin(self.isrs_sample_names),\n",
    "        ].squeeze()\n",
    "        is_area = self.peak_areas.loc[\n",
    "            self.peak_areas.index.isin(self.is_identity),\n",
    "            self.peak_areas.columns.isin(self.isrs_sample_names),\n",
    "        ]\n",
    "        rs_amount = self.is_concentration_file.loc[\n",
    "            self.is_concentration_file.index.isin(self.rs_identity), \"amount\"\n",
    "        ].squeeze()\n",
    "\n",
    "        is_amount = self.is_concentration_file.loc[\n",
    "            self.is_concentration_file.index.isin(self.is_identity), \"amount\"\n",
    "        ]\n",
    "        return ((is_area * rs_amount) / rs_area).div(is_amount, axis=\"index\")\n",
    "\n",
    "    def calculate_mean_RRF(self):\n",
    "        return self.calculate_RRF().mean(axis=\"columns\")"
   ]
  },
  {
   "cell_type": "code",
   "execution_count": null,
   "id": "629907e8-ef0a-431b-934c-ee8b4d8bc9b3",
   "metadata": {},
   "outputs": [],
   "source": [
    "Recovery(\n",
    "    data.quant_file,\n",
    "    data.is_concentration_file,\n",
    "    data.sample_properties_file,\n",
    "    data.is_correspondence_file,\n",
    ").calculate_RRF()"
   ]
  },
  {
   "cell_type": "code",
   "execution_count": null,
   "id": "c7ea5ba6-781f-4156-83f9-ed3f118b43d2",
   "metadata": {},
   "outputs": [],
   "source": []
  }
 ],
 "metadata": {
  "kernelspec": {
   "display_name": "Python 3 (ipykernel)",
   "language": "python",
   "name": "python3"
  },
  "language_info": {
   "codemirror_mode": {
    "name": "ipython",
    "version": 3
   },
   "file_extension": ".py",
   "mimetype": "text/x-python",
   "name": "python",
   "nbconvert_exporter": "python",
   "pygments_lexer": "ipython3",
   "version": "3.12.1"
  }
 },
 "nbformat": 4,
 "nbformat_minor": 5
}

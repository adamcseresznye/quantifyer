{
 "cells": [
  {
   "cell_type": "code",
   "execution_count": null,
   "id": "bec5cdfc-0fe4-452f-adf7-7df5191141d1",
   "metadata": {},
   "outputs": [],
   "source": [
    "from dataclasses import dataclass\n",
    "from io import StringIO\n",
    "from pathlib import Path\n",
    "from typing import Optional\n",
    "\n",
    "import matplotlib.pylab as plt\n",
    "import pandas as pd\n",
    "from pandas.testing import assert_frame_equal\n",
    "\n",
    "import data\n",
    "import qc\n",
    "import recovery\n",
    "import utils"
   ]
  },
  {
   "cell_type": "code",
   "execution_count": null,
   "id": "24d703f6-8b51-4ce0-a606-55a828cfec99",
   "metadata": {},
   "outputs": [],
   "source": [
    "parent_folder = utils.Configuration.RAW_DATA_PATH\n",
    "\n",
    "df = data.Data(\n",
    "    quant_file=parent_folder.joinpath(\"results.csv\"),\n",
    "    is_correspondence_file=parent_folder.joinpath(\"is_std_table_correspondence.csv\"),\n",
    "    sample_properties_file=parent_folder.joinpath(\"sample_properties.csv\"),\n",
    "    qc_file=parent_folder.joinpath(\"qc.csv\"),\n",
    "    is_concentration_file=parent_folder.joinpath(\"is_std_table_concentration.csv\"),\n",
    ")"
   ]
  },
  {
   "cell_type": "code",
   "execution_count": null,
   "id": "60fbf68c-241b-46d8-90d7-e64d9464336b",
   "metadata": {},
   "outputs": [],
   "source": [
    "df.validate_data()"
   ]
  },
  {
   "cell_type": "code",
   "execution_count": null,
   "id": "4d87d1c7-c331-4b5d-a4a8-8496ab301b49",
   "metadata": {},
   "outputs": [],
   "source": [
    "mock_peak_areas = \"name,type,QC_1,QC_2,QC_3,QC_4,QC_5,ISRS_1,ISRS_2,ISRS_3,ISRS_4,ISRS_5\\n13C_HCB,Area,20,40,60,80,100,20,40,60,80,100\\nCB_207,Area,100,100,100,100,100,1000,1000,1000,1000,1000\"\n",
    "mock_is_concentration_file = \"name,amount\\n13C_HCB,1000\\nCB_207,1000\"\n",
    "mock_sample_properties_file = \"sample_name,sample_type,volume\\nQC_1,qc,0.5\\nQC_2,qc,0.5\\nQC_3,qc,0.5\\nQC_4,qc,0.5\\nQC_5,qc,0.5\\nISRS_1,isrs,0.5\\nISRS_2,isrs,0.5\\nISRS_3,isrs,0.5\\nISRS_4,isrs,0.5\\nISRS_5,isrs,0.5\"\n",
    "mock_is_correspondence_file = (\n",
    "    \"native,internal_standard,external_standard\\nalpaHCH,13C_HCB,CB_207\"\n",
    ")"
   ]
  },
  {
   "cell_type": "code",
   "execution_count": null,
   "id": "1feadbf0-7122-45aa-9ed8-6c78b7d91139",
   "metadata": {},
   "outputs": [],
   "source": [
    "correction_factors = qc.CorrectionFactor(\n",
    "    df.quant_file, df.sample_properties_file, df.qc_file\n",
    ").calculate_correction_factors()"
   ]
  },
  {
   "cell_type": "code",
   "execution_count": null,
   "id": "33549f56-0521-47f3-8bbc-ed2567c39e69",
   "metadata": {},
   "outputs": [],
   "source": [
    "class ConcentrationCalculator:\n",
    "    def __init__(\n",
    "        self,\n",
    "        concentrations,\n",
    "        sample_properties_file,\n",
    "        correction_factors,\n",
    "    ):\n",
    "        self.concentrations = concentrations.query(\"type == 'concentration'\").set_index(\n",
    "            \"name\"\n",
    "        )\n",
    "        self.sample_properties_file = sample_properties_file\n",
    "        self.correction_factors = correction_factors\n",
    "\n",
    "    @property\n",
    "    def blank_sample_names(self):\n",
    "        return self.sample_properties_file.loc[\n",
    "            self.sample_properties_file.sample_type == \"blank\", \"sample_name\"\n",
    "        ].values\n",
    "\n",
    "    @property\n",
    "    def other_sample_names(self):\n",
    "        return self.sample_properties_file.loc[\n",
    "            self.sample_properties_file.sample_type.isin([\"sample\", \"qc\"]),\n",
    "            \"sample_name\",\n",
    "        ].values\n",
    "\n",
    "    @property\n",
    "    def sample_volumes(self):\n",
    "        return (\n",
    "            self.sample_properties_file.query(\n",
    "                \"sample_name.isin(@self.other_sample_names)\"\n",
    "            )\n",
    "            .drop(columns=\"sample_type\")\n",
    "            .set_index(\"sample_name\")\n",
    "            .squeeze()\n",
    "        )\n",
    "\n",
    "    def calculate_average_blanks(self):\n",
    "        return self.concentrations.loc[:, self.blank_sample_names].mean(axis=1)\n",
    "\n",
    "    def calculate_concentrations(self):\n",
    "        concentrations = (\n",
    "            (\n",
    "                self.concentrations.filter(items=self.other_sample_names, axis=1).sub(\n",
    "                    self.calculate_average_blanks(), axis=0\n",
    "                )\n",
    "            )\n",
    "            .mul(self.correction_factors, axis=0)\n",
    "            .div(self.sample_volumes)\n",
    "        )\n",
    "        return concentrations.mask(concentrations <= 0, 1)\n",
    "\n",
    "\n",
    "ConcentrationCalculator(\n",
    "    df.quant_file, df.sample_properties_file, correction_factors\n",
    ").calculate_concentrations()"
   ]
  },
  {
   "cell_type": "code",
   "execution_count": null,
   "id": "9a3f44a8-aa39-4d98-bc02-61a5b1d3a407",
   "metadata": {},
   "outputs": [],
   "source": []
  }
 ],
 "metadata": {
  "kernelspec": {
   "display_name": "Python 3 (ipykernel)",
   "language": "python",
   "name": "python3"
  },
  "language_info": {
   "codemirror_mode": {
    "name": "ipython",
    "version": 3
   },
   "file_extension": ".py",
   "mimetype": "text/x-python",
   "name": "python",
   "nbconvert_exporter": "python",
   "pygments_lexer": "ipython3",
   "version": "3.12.1"
  }
 },
 "nbformat": 4,
 "nbformat_minor": 5
}

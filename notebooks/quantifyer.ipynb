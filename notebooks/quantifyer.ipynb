{
 "cells": [
  {
   "cell_type": "code",
   "execution_count": null,
   "id": "bec5cdfc-0fe4-452f-adf7-7df5191141d1",
   "metadata": {},
   "outputs": [],
   "source": [
    "import concentration_calculator\n",
    "import data\n",
    "import pipeline\n",
    "import qc\n",
    "import recovery\n",
    "import utils"
   ]
  },
  {
   "cell_type": "markdown",
   "id": "257f50bb-f188-44fc-a3bf-51ee20d4ee76",
   "metadata": {},
   "source": [
    "# Demonstrating usage"
   ]
  },
  {
   "cell_type": "code",
   "execution_count": null,
   "id": "bb19b4a9",
   "metadata": {},
   "outputs": [],
   "source": [
    "# Usage example\n",
    "parent_folder = utils.Configuration.RAW_DATA_PATH\n",
    "\n",
    "file_paths = {\n",
    "    \"quant_file\": parent_folder.joinpath(\"results.csv\"),\n",
    "    \"is_correspondence_file\": parent_folder.joinpath(\"is_std_table_correspondence.csv\"),\n",
    "    \"sample_properties_file\": parent_folder.joinpath(\"sample_properties.csv\"),\n",
    "    \"qc_file\": parent_folder.joinpath(\"qc.csv\"),\n",
    "    \"is_concentration_file\": parent_folder.joinpath(\"is_std_table_concentration.csv\"),\n",
    "}\n",
    "\n",
    "dfs = data.Data(**file_paths)\n",
    "data_validator = data.DataValidator(dfs)\n",
    "recovery_calculator = recovery.Recovery(dfs)\n",
    "correction_factor_calculator = qc.CorrectionFactor(dfs)\n",
    "concentration_calc = concentration_calculator.MassBasedConcentrationCalculator(\n",
    "    dfs, correction_factor_calculator.calculate_correction_factor()\n",
    ")\n",
    "\n",
    "mass_based_calculator = pipeline.MassBasedCalculatorPipeline(\n",
    "    dfs,\n",
    "    data_validator,\n",
    "    recovery_calculator,\n",
    "    correction_factor_calculator,\n",
    "    concentration_calc,\n",
    ")\n",
    "\n",
    "pipeline = pipeline.StrategySelector(mass_based_calculator)\n",
    "\n",
    "results = pipeline.execute()\n",
    "results"
   ]
  },
  {
   "cell_type": "code",
   "execution_count": null,
   "id": "6af80270",
   "metadata": {},
   "outputs": [],
   "source": [
    "pipeline.display_plot(\"concentration\")"
   ]
  }
 ],
 "metadata": {
  "kernelspec": {
   "display_name": "Python 3 (ipykernel)",
   "language": "python",
   "name": "python3"
  },
  "language_info": {
   "codemirror_mode": {
    "name": "ipython",
    "version": 3
   },
   "file_extension": ".py",
   "mimetype": "text/x-python",
   "name": "python",
   "nbconvert_exporter": "python",
   "pygments_lexer": "ipython3",
   "version": "3.12.1"
  }
 },
 "nbformat": 4,
 "nbformat_minor": 5
}

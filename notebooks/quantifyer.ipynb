{
 "cells": [
  {
   "cell_type": "code",
   "execution_count": null,
   "id": "bec5cdfc-0fe4-452f-adf7-7df5191141d1",
   "metadata": {},
   "outputs": [],
   "source": [
    "from dataclasses import dataclass\n",
    "from pathlib import Path\n",
    "from typing import Optional\n",
    "\n",
    "import matplotlib.pylab as plt\n",
    "import pandas as pd\n",
    "\n",
    "import get_data\n",
    "import utils"
   ]
  },
  {
   "cell_type": "code",
   "execution_count": null,
   "id": "24d703f6-8b51-4ce0-a606-55a828cfec99",
   "metadata": {},
   "outputs": [],
   "source": [
    "get_data.Data(\n",
    "    quant_file=utils.Configuration.RAW_DATA_PATH.joinpath(\"results.csv\"),\n",
    "    is_correspondence_file=utils.Configuration.RAW_DATA_PATH.joinpath(\n",
    "        \"is_std_table_correspondence.csv\"\n",
    "    ),\n",
    "    sample_properties_file=utils.Configuration.RAW_DATA_PATH.joinpath(\n",
    "        \"sample_properties.csv\"\n",
    "    ),\n",
    ").quant_file"
   ]
  },
  {
   "cell_type": "code",
   "execution_count": null,
   "id": "a1d1d178-813a-4f94-b07a-50c04056fc9e",
   "metadata": {},
   "outputs": [],
   "source": []
  }
 ],
 "metadata": {
  "kernelspec": {
   "display_name": "Python 3 (ipykernel)",
   "language": "python",
   "name": "python3"
  },
  "language_info": {
   "codemirror_mode": {
    "name": "ipython",
    "version": 3
   },
   "file_extension": ".py",
   "mimetype": "text/x-python",
   "name": "python",
   "nbconvert_exporter": "python",
   "pygments_lexer": "ipython3",
   "version": "3.12.1"
  }
 },
 "nbformat": 4,
 "nbformat_minor": 5
}

{
 "cells": [
  {
   "cell_type": "code",
   "execution_count": null,
   "id": "bec5cdfc-0fe4-452f-adf7-7df5191141d1",
   "metadata": {},
   "outputs": [],
   "source": [
    "from dataclasses import dataclass\n",
    "from io import StringIO\n",
    "from pathlib import Path\n",
    "from typing import Optional\n",
    "\n",
    "import matplotlib.pylab as plt\n",
    "import pandas as pd\n",
    "from pandas.testing import assert_frame_equal\n",
    "\n",
    "import common_operations\n",
    "import concentration_calculator\n",
    "import data\n",
    "import pipeline\n",
    "import qc\n",
    "import recovery\n",
    "import utils"
   ]
  },
  {
   "cell_type": "code",
   "execution_count": null,
   "id": "22bcdb46-b093-41d7-9627-6b0ecd55cd69",
   "metadata": {},
   "outputs": [],
   "source": [
    "# mock_peak_areas = \"name,type,QC_1,QC_2,QC_3,QC_4,QC_5,ISRS_1,ISRS_2,ISRS_3,ISRS_4,ISRS_5\\n13C_HCB,Area,20,40,60,80,100,20,40,60,80,100\\nCB_207,Area,100,100,100,100,100,1000,1000,1000,1000,1000\"\n",
    "# mock_is_concentration_file = \"name,amount\\n13C_HCB,1000\\nCB_207,1000\"\n",
    "# mock_sample_properties_file = \"sample_name,sample_type,volume\\nQC_1,qc,0.5\\nQC_2,qc,0.5\\nQC_3,qc,0.5\\nQC_4,qc,0.5\\nQC_5,qc,0.5\\nISRS_1,isrs,0.5\\nISRS_2,isrs,0.5\\nISRS_3,isrs,0.5\\nISRS_4,isrs,0.5\\nISRS_5,isrs,0.5\"\n",
    "# mock_is_correspondence_file = (\n",
    "#     \"native,internal_standard,external_standard\\nalpaHCH,13C_HCB,CB_207\"\n",
    "# )"
   ]
  },
  {
   "cell_type": "code",
   "execution_count": null,
   "id": "24d703f6-8b51-4ce0-a606-55a828cfec99",
   "metadata": {},
   "outputs": [],
   "source": [
    "parent_folder = utils.Configuration.RAW_DATA_PATH\n",
    "\n",
    "df = data.Data(\n",
    "    quant_file=parent_folder.joinpath(\"results.csv\"),\n",
    "    is_correspondence_file=parent_folder.joinpath(\"is_std_table_correspondence.csv\"),\n",
    "    sample_properties_file=parent_folder.joinpath(\"sample_properties.csv\"),\n",
    "    qc_file=parent_folder.joinpath(\"qc.csv\"),\n",
    "    # is_concentration_file=parent_folder.joinpath(\"is_std_table_concentration.csv\"),\n",
    ")"
   ]
  },
  {
   "cell_type": "code",
   "execution_count": null,
   "id": "1ab03f16-7a14-4d85-98a4-567b3ac411ef",
   "metadata": {},
   "outputs": [],
   "source": [
    "data.DataValidator(df).validate_data()"
   ]
  },
  {
   "cell_type": "code",
   "execution_count": null,
   "id": "41e7c8f6-6f2c-49af-83e0-361db5067abb",
   "metadata": {},
   "outputs": [],
   "source": [
    "recovery.Recovery(df).plot_response_factor(by_sample=True)"
   ]
  },
  {
   "cell_type": "code",
   "execution_count": null,
   "id": "655646a4-c729-4ea1-8ae3-88fee70b72ea",
   "metadata": {},
   "outputs": [],
   "source": [
    "qc.CorrectionFactor(df).plot_correction_factor()"
   ]
  },
  {
   "cell_type": "code",
   "execution_count": null,
   "id": "7394de8c-8114-4f60-95e2-a1d4a8fcdc0b",
   "metadata": {},
   "outputs": [],
   "source": [
    "concentration_calculator.ConcentrationCalculator(\n",
    "    df, qc.CorrectionFactor(df).calculate_correction_factor()\n",
    ").plot_concentration(by_sample=False)"
   ]
  },
  {
   "cell_type": "code",
   "execution_count": null,
   "id": "46781f8f-59c4-4946-83a0-d69d7c23b2af",
   "metadata": {},
   "outputs": [],
   "source": [
    "parent_folder = utils.Configuration.RAW_DATA_PATH\n",
    "\n",
    "file_paths = {\n",
    "    \"quant_file\": parent_folder.joinpath(\"results.csv\"),\n",
    "    \"is_correspondence_file\": parent_folder.joinpath(\"is_std_table_correspondence.csv\"),\n",
    "    \"sample_properties_file\": parent_folder.joinpath(\"sample_properties.csv\"),\n",
    "    \"qc_file\": parent_folder.joinpath(\"qc.csv\"),\n",
    "    \"is_concentration_file\": parent_folder.joinpath(\"is_std_table_concentration.csv\"),\n",
    "}\n",
    "\n",
    "job = pipeline.Pipeline(**file_paths)\n",
    "\n",
    "job.execute()"
   ]
  },
  {
   "cell_type": "markdown",
   "id": "257f50bb-f188-44fc-a3bf-51ee20d4ee76",
   "metadata": {},
   "source": [
    "# Trubleshooting"
   ]
  },
  {
   "cell_type": "code",
   "execution_count": null,
   "id": "57f93a85-79d9-47a1-a307-d690f81f6f6c",
   "metadata": {},
   "outputs": [],
   "source": [
    "# TODO at the moment the self.concentration_calculator.calculate_concentration() needs a QC file to be present\n",
    "# we might want to have the option of not performing QC correction, so we need to make sure\n",
    "# self.concentration_calculator.calculate_concentration() can be run without QC correction\n",
    "\n",
    "parent_folder = utils.Configuration.RAW_DATA_PATH\n",
    "\n",
    "file_paths = {\n",
    "    \"quant_file\": parent_folder.joinpath(\"results.csv\"),\n",
    "    \"is_correspondence_file\": parent_folder.joinpath(\"is_std_table_correspondence.csv\"),\n",
    "    \"sample_properties_file\": parent_folder.joinpath(\"sample_properties.csv\"),\n",
    "    \"qc_file\": parent_folder.joinpath(\"qc.csv\"),\n",
    "    \"is_concentration_file\": parent_folder.joinpath(\"is_std_table_concentration.csv\"),\n",
    "}\n",
    "\n",
    "\n",
    "class Pipeline:\n",
    "    def __init__(\n",
    "        self,\n",
    "        quant_file,\n",
    "        is_correspondence_file,\n",
    "        sample_properties_file,\n",
    "        qc_file=None,\n",
    "        is_concentration_file=None,\n",
    "    ):\n",
    "        self.data = data.Data(\n",
    "            quant_file,\n",
    "            is_correspondence_file,\n",
    "            sample_properties_file,\n",
    "            qc_file,\n",
    "            is_concentration_file,\n",
    "        )\n",
    "        self._data_validator = None\n",
    "        self._recovery_calculator = None\n",
    "        self._correction_factor_calculator = None\n",
    "        self._concentration_calculator = None\n",
    "\n",
    "    @property\n",
    "    def data_validator(self):\n",
    "        if self._data_validator is None:\n",
    "            self._data_validator = data.DataValidator(self.data)\n",
    "        return self._data_validator\n",
    "\n",
    "    @property\n",
    "    def recovery_calculator(self):\n",
    "        if self._recovery_calculator is None:\n",
    "            self._recovery_calculator = recovery.Recovery(self.data)\n",
    "        return self._recovery_calculator\n",
    "\n",
    "    @property\n",
    "    def correction_factor_calculator(self):\n",
    "        if self._correction_factor_calculator is None:\n",
    "            self._correction_factor_calculator = qc.CorrectionFactor(self.data)\n",
    "        return self._correction_factor_calculator\n",
    "\n",
    "    @property\n",
    "    def concentration_calculator(self):\n",
    "        if self._concentration_calculator is None:\n",
    "            self._concentration_calculator = (\n",
    "                concentration_calculator.ConcentrationCalculator(\n",
    "                    self.data,\n",
    "                    self.correction_factor_calculator.calculate_correction_factor(),\n",
    "                )\n",
    "            )\n",
    "        return self._concentration_calculator\n",
    "\n",
    "    def execute(self, return_values):\n",
    "        # Step 1: Validate the data\n",
    "        self.data_validator.validate_data()\n",
    "\n",
    "        # Initialize recovery as None\n",
    "        recovery = None\n",
    "        if self.data.is_concentration_file is not None:\n",
    "            # Step 2: Calculate recovery\n",
    "            recovery = self.recovery_calculator.calculate_recovery()\n",
    "\n",
    "        correction_factors = None\n",
    "        if self.data.qc_file is not None:\n",
    "            # Step 3: Calculate correction factors\n",
    "            correction_factors = (\n",
    "                self.correction_factor_calculator.calculate_correction_factor()\n",
    "            )\n",
    "\n",
    "        # Step 4: Calculate concentrations\n",
    "        concentrations = self.concentration_calculator.calculate_concentration()\n",
    "\n",
    "        # Create a dictionary mapping return_values to the corresponding values\n",
    "        results_dict = {\n",
    "            \"recovery\": recovery,\n",
    "            \"correction_factors\": correction_factors,\n",
    "            \"concentrations\": concentrations,\n",
    "        }\n",
    "\n",
    "        # If \"all\" is in return_values, return all results\n",
    "        if \"all\" in return_values:\n",
    "            return results_dict\n",
    "\n",
    "        # Otherwise, return only the requested results\n",
    "        return {key: results_dict[key] for key in return_values if key in results_dict}\n",
    "\n",
    "\n",
    "job = Pipeline(**file_paths)\n",
    "\n",
    "job.execute(return_values=[\"all\"])"
   ]
  },
  {
   "cell_type": "code",
   "execution_count": null,
   "id": "66d8c89f-c330-4701-9fc7-f545fd031273",
   "metadata": {},
   "outputs": [],
   "source": []
  }
 ],
 "metadata": {
  "kernelspec": {
   "display_name": "Python 3 (ipykernel)",
   "language": "python",
   "name": "python3"
  },
  "language_info": {
   "codemirror_mode": {
    "name": "ipython",
    "version": 3
   },
   "file_extension": ".py",
   "mimetype": "text/x-python",
   "name": "python",
   "nbconvert_exporter": "python",
   "pygments_lexer": "ipython3",
   "version": "3.12.1"
  }
 },
 "nbformat": 4,
 "nbformat_minor": 5
}

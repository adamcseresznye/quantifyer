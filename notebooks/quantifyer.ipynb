{
 "cells": [
  {
   "cell_type": "code",
   "execution_count": null,
   "id": "bec5cdfc-0fe4-452f-adf7-7df5191141d1",
   "metadata": {},
   "outputs": [],
   "source": [
    "from io import StringIO\n",
    "\n",
    "import pandas as pd\n",
    "\n",
    "import common_operations\n",
    "import concentration_calculator\n",
    "import data\n",
    "import pipeline\n",
    "import qc\n",
    "import recovery\n",
    "import utils"
   ]
  },
  {
   "cell_type": "code",
   "execution_count": null,
   "id": "22bcdb46-b093-41d7-9627-6b0ecd55cd69",
   "metadata": {},
   "outputs": [],
   "source": [
    "# mock_peak_areas = \"name,type,QC_1,QC_2,QC_3,QC_4,QC_5,ISRS_1,ISRS_2,ISRS_3,ISRS_4,ISRS_5\\n13C_HCB,Area,20,40,60,80,100,20,40,60,80,100\\nCB_207,Area,100,100,100,100,100,1000,1000,1000,1000,1000\"\n",
    "# mock_is_concentration_file = \"name,amount\\n13C_HCB,1000\\nCB_207,1000\"\n",
    "# mock_sample_properties_file = \"sample_name,sample_type,volume\\nQC_1,qc,0.5\\nQC_2,qc,0.5\\nQC_3,qc,0.5\\nQC_4,qc,0.5\\nQC_5,qc,0.5\\nISRS_1,isrs,0.5\\nISRS_2,isrs,0.5\\nISRS_3,isrs,0.5\\nISRS_4,isrs,0.5\\nISRS_5,isrs,0.5\"\n",
    "# mock_is_correspondence_file = (\n",
    "#     \"native,internal_standard,external_standard\\nalpaHCH,13C_HCB,CB_207\"\n",
    "# )"
   ]
  },
  {
   "cell_type": "code",
   "execution_count": null,
   "id": "24d703f6-8b51-4ce0-a606-55a828cfec99",
   "metadata": {},
   "outputs": [],
   "source": [
    "parent_folder = utils.Configuration.RAW_DATA_PATH\n",
    "\n",
    "df = data.Data(\n",
    "    quant_file=parent_folder.joinpath(\"results.csv\"),\n",
    "    is_correspondence_file=parent_folder.joinpath(\"is_std_table_correspondence.csv\"),\n",
    "    sample_properties_file=parent_folder.joinpath(\"sample_properties.csv\"),\n",
    "    qc_file=parent_folder.joinpath(\"qc.csv\"),\n",
    "    is_concentration_file=parent_folder.joinpath(\"is_std_table_concentration.csv\"),\n",
    ")"
   ]
  },
  {
   "cell_type": "markdown",
   "id": "257f50bb-f188-44fc-a3bf-51ee20d4ee76",
   "metadata": {},
   "source": [
    "# Trubleshooting"
   ]
  },
  {
   "cell_type": "code",
   "execution_count": null,
   "id": "bb19b4a9",
   "metadata": {},
   "outputs": [],
   "source": [
    "# Usage example\n",
    "parent_folder = utils.Configuration.RAW_DATA_PATH\n",
    "\n",
    "file_paths = {\n",
    "    \"quant_file\": parent_folder.joinpath(\"results.csv\"),\n",
    "    \"is_correspondence_file\": parent_folder.joinpath(\"is_std_table_correspondence.csv\"),\n",
    "    \"sample_properties_file\": parent_folder.joinpath(\"sample_properties.csv\"),\n",
    "    \"qc_file\": parent_folder.joinpath(\"qc.csv\"),\n",
    "    \"is_concentration_file\": parent_folder.joinpath(\"is_std_table_concentration.csv\"),\n",
    "}\n",
    "\n",
    "dfs = data.Data(**file_paths)\n",
    "data_validator = data.DataValidator(dfs)\n",
    "recovery_calculator = recovery.Recovery(dfs)\n",
    "correction_factor_calculator = qc.CorrectionFactor(dfs)\n",
    "concentration_calc = concentration_calculator.ConcentrationCalculator(\n",
    "    dfs, correction_factor_calculator.calculate_correction_factor()\n",
    ")\n",
    "\n",
    "mass_based_calculator = pipeline.MassBasedCalculator(\n",
    "    dfs,\n",
    "    data_validator,\n",
    "    recovery_calculator,\n",
    "    correction_factor_calculator,\n",
    "    concentration_calc,\n",
    ")\n",
    "\n",
    "pipeline = pipeline.Pipeline(mass_based_calculator)\n",
    "\n",
    "results = pipeline.execute()\n",
    "results"
   ]
  },
  {
   "cell_type": "code",
   "execution_count": null,
   "id": "6af80270",
   "metadata": {},
   "outputs": [],
   "source": [
    "pipeline.display_plot(\"concentration\")"
   ]
  },
  {
   "cell_type": "markdown",
   "id": "2b75bc09",
   "metadata": {},
   "source": [
    "# Pytest examples\n"
   ]
  },
  {
   "cell_type": "code",
   "execution_count": null,
   "id": "83d551de",
   "metadata": {},
   "outputs": [],
   "source": [
    "df = pd.DataFrame({\"Column1\": [\"Maki\", 2, \"KUPAL\"], \"column2\": [\"l?p\", 5, 6]})\n",
    "\n",
    "processor = data.DataProcessor()\n",
    "processed_data = processor.preprocess_file(df)\n",
    "processed_data"
   ]
  },
  {
   "cell_type": "code",
   "execution_count": null,
   "id": "8fc20e11",
   "metadata": {},
   "outputs": [],
   "source": [
    "example_data = {\n",
    "    \"quant_file\": StringIO(\"name,type\"),\n",
    "    \"is_correspondence_file\": StringIO(\"native,internal_standard,external_standard\"),\n",
    "    \"sample_properties_file\": StringIO(\"sample_name,sample_type,volume\"),\n",
    "    \"qc_file\": StringIO(\"native,concentration\"),\n",
    "    \"is_concentration_file\": StringIO(\"name,amount\"),\n",
    "}\n",
    "\n",
    "dataframes = data.Data(**example_data)\n",
    "processor = data.DataProcessor()\n",
    "\n",
    "processor.preprocess_file(dataframes.quant_file)\n",
    "\n",
    "# data.DataValidator(dataframes).validate()"
   ]
  },
  {
   "cell_type": "code",
   "execution_count": null,
   "id": "3c855100",
   "metadata": {},
   "outputs": [],
   "source": [
    "# TODO it may need to be validated if quant_file/type contains both area (needed for calculating recovery but not necessary) and concentration (needed)\n",
    "# TODO it has to be validated that is_concentration_file contains both is and rs\n",
    "\n",
    "\n",
    "example_data = {\n",
    "    \"quant_file\": StringIO(\"Name,type\\ncompound_1,area\\ncompound_1,concentration\"),\n",
    "    \"is_correspondence_file\": StringIO(\n",
    "        \"native,internal_standard,external_standard\\ncompound_1,IS_1,RS_1\"\n",
    "    ),\n",
    "    \"sample_properties_file\": StringIO(\n",
    "        \"sample_name,sample_type,volume\\nsample_1,blank,10\\nsample_2,QC,10\"\n",
    "    ),\n",
    "    \"qc_file\": StringIO(\"native,concentration\\ncompound_1,10\"),\n",
    "    \"is_concentration_file\": StringIO(\"name,amount\\nIS_1,10\\nRS_1,10\"),\n",
    "}\n",
    "\n",
    "dataframes = data.Data(**example_data)\n",
    "\n",
    "common_operations.BaseCalculator(dataframes).get_is_rs_amount()\n",
    "dataframes.quant_file"
   ]
  }
 ],
 "metadata": {
  "kernelspec": {
   "display_name": "Python 3 (ipykernel)",
   "language": "python",
   "name": "python3"
  },
  "language_info": {
   "codemirror_mode": {
    "name": "ipython",
    "version": 3
   },
   "file_extension": ".py",
   "mimetype": "text/x-python",
   "name": "python",
   "nbconvert_exporter": "python",
   "pygments_lexer": "ipython3",
   "version": "3.12.1"
  }
 },
 "nbformat": 4,
 "nbformat_minor": 5
}

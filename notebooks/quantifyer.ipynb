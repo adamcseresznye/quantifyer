{
 "cells": [
  {
   "cell_type": "code",
   "execution_count": null,
   "id": "bec5cdfc-0fe4-452f-adf7-7df5191141d1",
   "metadata": {},
   "outputs": [],
   "source": [
    "from dataclasses import dataclass\n",
    "from io import StringIO\n",
    "from pathlib import Path\n",
    "from typing import Optional\n",
    "\n",
    "import matplotlib.pylab as plt\n",
    "import pandas as pd\n",
    "from pandas.testing import assert_frame_equal\n",
    "\n",
    "import common_operations\n",
    "import concentration_calculator\n",
    "import data\n",
    "import pipeline\n",
    "import qc\n",
    "import recovery\n",
    "import utils"
   ]
  },
  {
   "cell_type": "code",
   "execution_count": null,
   "id": "22bcdb46-b093-41d7-9627-6b0ecd55cd69",
   "metadata": {},
   "outputs": [],
   "source": [
    "# mock_peak_areas = \"name,type,QC_1,QC_2,QC_3,QC_4,QC_5,ISRS_1,ISRS_2,ISRS_3,ISRS_4,ISRS_5\\n13C_HCB,Area,20,40,60,80,100,20,40,60,80,100\\nCB_207,Area,100,100,100,100,100,1000,1000,1000,1000,1000\"\n",
    "# mock_is_concentration_file = \"name,amount\\n13C_HCB,1000\\nCB_207,1000\"\n",
    "# mock_sample_properties_file = \"sample_name,sample_type,volume\\nQC_1,qc,0.5\\nQC_2,qc,0.5\\nQC_3,qc,0.5\\nQC_4,qc,0.5\\nQC_5,qc,0.5\\nISRS_1,isrs,0.5\\nISRS_2,isrs,0.5\\nISRS_3,isrs,0.5\\nISRS_4,isrs,0.5\\nISRS_5,isrs,0.5\"\n",
    "# mock_is_correspondence_file = (\n",
    "#     \"native,internal_standard,external_standard\\nalpaHCH,13C_HCB,CB_207\"\n",
    "# )"
   ]
  },
  {
   "cell_type": "code",
   "execution_count": null,
   "id": "24d703f6-8b51-4ce0-a606-55a828cfec99",
   "metadata": {},
   "outputs": [],
   "source": [
    "parent_folder = utils.Configuration.RAW_DATA_PATH\n",
    "\n",
    "df = data.Data(\n",
    "    quant_file=parent_folder.joinpath(\"results.csv\"),\n",
    "    is_correspondence_file=parent_folder.joinpath(\"is_std_table_correspondence.csv\"),\n",
    "    sample_properties_file=parent_folder.joinpath(\"sample_properties.csv\"),\n",
    "    qc_file=parent_folder.joinpath(\"qc.csv\"),\n",
    "    is_concentration_file=parent_folder.joinpath(\"is_std_table_concentration.csv\"),\n",
    ")"
   ]
  },
  {
   "cell_type": "code",
   "execution_count": null,
   "id": "1ab03f16-7a14-4d85-98a4-567b3ac411ef",
   "metadata": {},
   "outputs": [],
   "source": [
    "data.DataValidator(df).validate_data()"
   ]
  },
  {
   "cell_type": "code",
   "execution_count": null,
   "id": "41e7c8f6-6f2c-49af-83e0-361db5067abb",
   "metadata": {},
   "outputs": [],
   "source": [
    "recovery.Recovery(df).plot_response_factor(by_sample=True)"
   ]
  },
  {
   "cell_type": "code",
   "execution_count": null,
   "id": "8be82e20-b2f7-4f02-80f2-e901c7dd17e0",
   "metadata": {},
   "outputs": [],
   "source": [
    "recovery.Recovery(df).plot_recovery(by_sample=False)"
   ]
  },
  {
   "cell_type": "code",
   "execution_count": null,
   "id": "7394de8c-8114-4f60-95e2-a1d4a8fcdc0b",
   "metadata": {},
   "outputs": [],
   "source": [
    "concentration_calculator.ConcentrationCalculator(\n",
    "    df, qc.CorrectionFactor(df).calculate_correction_factor()\n",
    ").plot_concentration(by_sample=False)"
   ]
  },
  {
   "cell_type": "code",
   "execution_count": null,
   "id": "46781f8f-59c4-4946-83a0-d69d7c23b2af",
   "metadata": {},
   "outputs": [],
   "source": [
    "parent_folder = utils.Configuration.RAW_DATA_PATH\n",
    "\n",
    "file_paths = {\n",
    "    \"quant_file\": parent_folder.joinpath(\"results.csv\"),\n",
    "    \"is_correspondence_file\": parent_folder.joinpath(\"is_std_table_correspondence.csv\"),\n",
    "    \"sample_properties_file\": parent_folder.joinpath(\"sample_properties.csv\"),\n",
    "    \"qc_file\": parent_folder.joinpath(\"qc.csv\"),\n",
    "    \"is_concentration_file\": parent_folder.joinpath(\"is_std_table_concentration.csv\"),\n",
    "}\n",
    "\n",
    "job = pipeline.Pipeline(**file_paths)\n",
    "\n",
    "job.execute()"
   ]
  },
  {
   "cell_type": "code",
   "execution_count": null,
   "id": "66d8c89f-c330-4701-9fc7-f545fd031273",
   "metadata": {},
   "outputs": [],
   "source": []
  }
 ],
 "metadata": {
  "kernelspec": {
   "display_name": "Python 3 (ipykernel)",
   "language": "python",
   "name": "python3"
  },
  "language_info": {
   "codemirror_mode": {
    "name": "ipython",
    "version": 3
   },
   "file_extension": ".py",
   "mimetype": "text/x-python",
   "name": "python",
   "nbconvert_exporter": "python",
   "pygments_lexer": "ipython3",
   "version": "3.12.1"
  }
 },
 "nbformat": 4,
 "nbformat_minor": 5
}

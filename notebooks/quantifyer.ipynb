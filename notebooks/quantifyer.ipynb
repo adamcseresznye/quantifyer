{
 "cells": [
  {
   "cell_type": "code",
   "execution_count": null,
   "id": "bec5cdfc-0fe4-452f-adf7-7df5191141d1",
   "metadata": {},
   "outputs": [],
   "source": [
    "from pathlib import Path\n",
    "\n",
    "import matplotlib.pylab as plt\n",
    "import pandas as pd\n",
    "\n",
    "import utils"
   ]
  },
  {
   "cell_type": "code",
   "execution_count": null,
   "id": "6725afd7-f024-432b-98d8-ebe74b0ab533",
   "metadata": {},
   "outputs": [],
   "source": [
    "pd.read_csv(utils.Configuration.RAW_DATA_PATH.joinpath(\"results.csv\"))"
   ]
  },
  {
   "cell_type": "code",
   "execution_count": null,
   "id": "d1650533-b6cd-4bfd-9b17-5f236dad4e3d",
   "metadata": {},
   "outputs": [],
   "source": [
    "class Quantifyer:\n",
    "    def __init__(\n",
    "        self,\n",
    "        quant_file,\n",
    "        is_correspondence_file,\n",
    "        qc_file=None,\n",
    "        is_concentration_file=None,\n",
    "    ):\n",
    "        self.intact_quant_file = (\n",
    "            pd.read_csv(quant_file)\n",
    "            .rename(columns=lambda x: x.replace(\"-\", \"_\").replace(\" \", \"_\").lower())\n",
    "            .assign(\n",
    "                compound=lambda df: df.compound.replace(\"-\", \"_\")\n",
    "                .replace(\" \", \"_\")\n",
    "                .str.lower()\n",
    "            )\n",
    "            # .lower()\n",
    "        )\n",
    "        self.sample_volume = (\n",
    "            pd.read_csv(quant_file).rename(\n",
    "                columns=lambda x: x.replace(\"-\", \"_\").replace(\" \", \"_\").lower()\n",
    "            )\n",
    "            # .set_index(\"compound\")\n",
    "            # .T.query(\"sample_type.isin(['qc', 'sample', 'blank'])\")\n",
    "            # .volume.to_dict()\n",
    "        )\n",
    "        self.quant_file = pd.read_csv(quant_file)\n",
    "        self.is_correspondence_file = pd.read_csv(is_correspondence_file)\n",
    "        if qc_file is not None:\n",
    "            self.qc_file = pd.read_csv(qc_file)\n",
    "        else:\n",
    "            self.qc_file = None\n",
    "\n",
    "        if is_concentration_file is not None:\n",
    "            self.is_concentration_file = pd.read_csv(is_concentration_file)\n",
    "        else:\n",
    "            self.is_concentration_file = None\n",
    "\n",
    "\n",
    "quant = Quantifyer(\n",
    "    quant_file=utils.Configuration.RAW_DATA_PATH.joinpath(\"results.csv\"),\n",
    "    is_correspondence_file=utils.Configuration.RAW_DATA_PATH.joinpath(\n",
    "        \"is_std_table_correspondence.csv\"\n",
    "    ),\n",
    ")"
   ]
  },
  {
   "cell_type": "code",
   "execution_count": null,
   "id": "24d703f6-8b51-4ce0-a606-55a828cfec99",
   "metadata": {},
   "outputs": [],
   "source": [
    "quant.intact_quant_file"
   ]
  },
  {
   "cell_type": "code",
   "execution_count": null,
   "id": "4c3078c8-187e-4c6c-9efc-7112d15ee6f3",
   "metadata": {},
   "outputs": [],
   "source": []
  }
 ],
 "metadata": {
  "kernelspec": {
   "display_name": "Python 3 (ipykernel)",
   "language": "python",
   "name": "python3"
  },
  "language_info": {
   "codemirror_mode": {
    "name": "ipython",
    "version": 3
   },
   "file_extension": ".py",
   "mimetype": "text/x-python",
   "name": "python",
   "nbconvert_exporter": "python",
   "pygments_lexer": "ipython3",
   "version": "3.12.1"
  }
 },
 "nbformat": 4,
 "nbformat_minor": 5
}
